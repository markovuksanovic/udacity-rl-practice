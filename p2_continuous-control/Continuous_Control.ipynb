{
 "cells": [
  {
   "cell_type": "markdown",
   "metadata": {},
   "source": [
    "# Continuous Control\n",
    "\n",
    "---\n",
    "\n",
    "In this notebook, you will learn how to use the Unity ML-Agents environment for the second project of the [Deep Reinforcement Learning Nanodegree](https://www.udacity.com/course/deep-reinforcement-learning-nanodegree--nd893) program.\n",
    "\n",
    "### 1. Start the Environment\n",
    "\n",
    "We begin by importing the necessary packages.  If the code cell below returns an error, please revisit the project instructions to double-check that you have installed [Unity ML-Agents](https://github.com/Unity-Technologies/ml-agents/blob/master/docs/Installation.md) and [NumPy](http://www.numpy.org/)."
   ]
  },
  {
   "cell_type": "code",
   "execution_count": null,
   "metadata": {},
   "outputs": [],
   "source": [
    "from unityagents import UnityEnvironment\n",
    "import numpy as np"
   ]
  },
  {
   "cell_type": "markdown",
   "metadata": {},
   "source": [
    "Next, we will start the environment!  **_Before running the code cell below_**, change the `file_name` parameter to match the location of the Unity environment that you downloaded.\n",
    "\n",
    "- **Mac**: `\"path/to/Reacher.app\"`\n",
    "- **Windows** (x86): `\"path/to/Reacher_Windows_x86/Reacher.exe\"`\n",
    "- **Windows** (x86_64): `\"path/to/Reacher_Windows_x86_64/Reacher.exe\"`\n",
    "- **Linux** (x86): `\"path/to/Reacher_Linux/Reacher.x86\"`\n",
    "- **Linux** (x86_64): `\"path/to/Reacher_Linux/Reacher.x86_64\"`\n",
    "- **Linux** (x86, headless): `\"path/to/Reacher_Linux_NoVis/Reacher.x86\"`\n",
    "- **Linux** (x86_64, headless): `\"path/to/Reacher_Linux_NoVis/Reacher.x86_64\"`\n",
    "\n",
    "For instance, if you are using a Mac, then you downloaded `Reacher.app`.  If this file is in the same folder as the notebook, then the line below should appear as follows:\n",
    "```\n",
    "env = UnityEnvironment(file_name=\"Reacher.app\")\n",
    "```"
   ]
  },
  {
   "cell_type": "code",
   "execution_count": null,
   "metadata": {},
   "outputs": [],
   "source": [
    "env = UnityEnvironment(file_name='./Reacher20.app')"
   ]
  },
  {
   "cell_type": "markdown",
   "metadata": {},
   "source": [
    "Environments contain **_brains_** which are responsible for deciding the actions of their associated agents. Here we check for the first brain available, and set it as the default brain we will be controlling from Python."
   ]
  },
  {
   "cell_type": "code",
   "execution_count": null,
   "metadata": {},
   "outputs": [],
   "source": [
    "# get the default brain\n",
    "brain_name = env.brain_names[0]\n",
    "brain = env.brains[brain_name]"
   ]
  },
  {
   "cell_type": "markdown",
   "metadata": {},
   "source": [
    "### 2. Examine the State and Action Spaces\n",
    "\n",
    "In this environment, a double-jointed arm can move to target locations. A reward of `+0.1` is provided for each step that the agent's hand is in the goal location. Thus, the goal of your agent is to maintain its position at the target location for as many time steps as possible.\n",
    "\n",
    "The observation space consists of `33` variables corresponding to position, rotation, velocity, and angular velocities of the arm.  Each action is a vector with four numbers, corresponding to torque applicable to two joints.  Every entry in the action vector must be a number between `-1` and `1`.\n",
    "\n",
    "Run the code cell below to print some information about the environment."
   ]
  },
  {
   "cell_type": "code",
   "execution_count": 4,
   "metadata": {},
   "outputs": [
    {
     "name": "stdout",
     "output_type": "stream",
     "text": [
      "Number of agents: 20\n",
      "Size of each action: 4\n",
      "There are 20 agents. Each observes a state with length: 33\n",
      "The state for the first agent looks like: [ 0.00000000e+00 -4.00000000e+00  0.00000000e+00  1.00000000e+00\n",
      " -0.00000000e+00 -0.00000000e+00 -4.37113883e-08  0.00000000e+00\n",
      "  0.00000000e+00  0.00000000e+00  0.00000000e+00  0.00000000e+00\n",
      "  0.00000000e+00  0.00000000e+00 -1.00000000e+01  0.00000000e+00\n",
      "  1.00000000e+00 -0.00000000e+00 -0.00000000e+00 -4.37113883e-08\n",
      "  0.00000000e+00  0.00000000e+00  0.00000000e+00  0.00000000e+00\n",
      "  0.00000000e+00  0.00000000e+00  5.75471878e+00 -1.00000000e+00\n",
      "  5.55726624e+00  0.00000000e+00  1.00000000e+00  0.00000000e+00\n",
      " -1.68164849e-01]\n"
     ]
    }
   ],
   "source": [
    "# reset the environment\n",
    "env_info = env.reset(train_mode=True)[brain_name]\n",
    "\n",
    "# number of agents\n",
    "num_agents = len(env_info.agents)\n",
    "print('Number of agents:', num_agents)\n",
    "\n",
    "# size of each action\n",
    "action_size = brain.vector_action_space_size\n",
    "print('Size of each action:', action_size)\n",
    "\n",
    "# examine the state space \n",
    "states = env_info.vector_observations\n",
    "state_size = states.shape[1]\n",
    "print('There are {} agents. Each observes a state with length: {}'.format(states.shape[0], state_size))\n",
    "print('The state for the first agent looks like:', states[0])"
   ]
  },
  {
   "cell_type": "markdown",
   "metadata": {},
   "source": [
    "### 3. Initialise agent"
   ]
  },
  {
   "cell_type": "code",
   "execution_count": 5,
   "metadata": {},
   "outputs": [],
   "source": [
    "STATE_SIZE = 33\n",
    "ACTION_SIZE = 4\n",
    "SEED = 17\n",
    "\n",
    "import torch\n",
    "from agent import Agent\n",
    "from collections import deque\n",
    "\n",
    "agent = Agent(STATE_SIZE, ACTION_SIZE, SEED, actor_lr=.001, critic_lr=.001)"
   ]
  },
  {
   "cell_type": "markdown",
   "metadata": {},
   "source": [
    "### 4. (a) Restore agent \n",
    "\n",
    "If you would prefer to load a saved model use the following cell with the appropriate model name. In case you'd like to train your agent skip to step 4b."
   ]
  },
  {
   "cell_type": "code",
   "execution_count": null,
   "metadata": {},
   "outputs": [],
   "source": [
    "agent.load_state('13022019-1')"
   ]
  },
  {
   "cell_type": "markdown",
   "metadata": {},
   "source": [
    "### 4. (b) Train the agent"
   ]
  },
  {
   "cell_type": "code",
   "execution_count": 6,
   "metadata": {},
   "outputs": [],
   "source": [
    "def ddpg(num_episodes, timesteps_per_episode, goal_score=30, learn_every=20, num_learn=10):\n",
    "    total_mean_scores_per_episode = []\n",
    "    total_mean_scores_deque = deque(maxlen=100)\n",
    "    \n",
    "    for episode_idx in range(num_episodes):\n",
    "        env_info = env.reset(train_mode=True)[brain_name]\n",
    "        states = env_info.vector_observations\n",
    "        episode_scores = np.zeros(num_agents)\n",
    "        \n",
    "        for timestep in range(timesteps_per_episode):\n",
    "            actions = agent.act(states)\n",
    "            env_info = env.step(actions)[brain_name]\n",
    "            next_states = env_info.vector_observations\n",
    "            rewards = env_info.rewards\n",
    "            dones = env_info.local_done\n",
    "            episode_scores += rewards\n",
    "            agent.step(zip(states, actions, rewards, next_states, dones))\n",
    "            states = next_states\n",
    "            \n",
    "            if timestep % learn_every == 0:\n",
    "                for _ in range(num_learn):\n",
    "                    agent.learn()\n",
    "    \n",
    "            if np.any(dones):\n",
    "                break\n",
    "                \n",
    "        \n",
    "        episode_mean_score = np.mean(episode_scores)\n",
    "        episode_min_score = np.min(episode_scores)\n",
    "        episode_max_score = np.max(episode_scores)\n",
    "        total_mean_scores_deque.append(episode_mean_score)\n",
    "        total_mean_scores_per_episode.append(episode_mean_score)\n",
    "        total_average_score = np.mean(total_mean_scores_deque)\n",
    "        print('\\rEpisode {}\\tTotal Average Score: {:.2f}\\tMean: {:.2f}\\tMin: {:.2f}\\tMax: {:.2f}'\n",
    "              .format(episode_idx, total_average_score, episode_mean_score, episode_min_score, episode_max_score))\n",
    "        \n",
    "        if np.mean(total_mean_scores_deque) > goal_score and episode_idx > 100:\n",
    "            break\n",
    "            \n",
    "    return total_mean_scores_per_episode"
   ]
  },
  {
   "cell_type": "code",
   "execution_count": 7,
   "metadata": {},
   "outputs": [
    {
     "name": "stdout",
     "output_type": "stream",
     "text": [
      "Episode 0\tTotal Average Score: 0.40\tMean: 0.40\tMin: 0.02\tMax: 1.49\n",
      "Episode 1\tTotal Average Score: 0.51\tMean: 0.62\tMin: 0.00\tMax: 1.98\n",
      "Episode 2\tTotal Average Score: 0.63\tMean: 0.88\tMin: 0.00\tMax: 2.36\n",
      "Episode 3\tTotal Average Score: 0.75\tMean: 1.11\tMin: 0.33\tMax: 2.06\n",
      "Episode 4\tTotal Average Score: 0.81\tMean: 1.05\tMin: 0.18\tMax: 2.16\n",
      "Episode 5\tTotal Average Score: 1.00\tMean: 1.93\tMin: 0.52\tMax: 3.07\n",
      "Episode 6\tTotal Average Score: 1.07\tMean: 1.52\tMin: 0.41\tMax: 3.40\n",
      "Episode 7\tTotal Average Score: 1.27\tMean: 2.66\tMin: 0.99\tMax: 6.32\n",
      "Episode 8\tTotal Average Score: 1.46\tMean: 3.00\tMin: 1.06\tMax: 6.00\n",
      "Episode 9\tTotal Average Score: 1.77\tMean: 4.51\tMin: 1.33\tMax: 7.92\n",
      "Episode 10\tTotal Average Score: 2.09\tMean: 5.31\tMin: 2.04\tMax: 10.56\n",
      "Episode 11\tTotal Average Score: 2.41\tMean: 5.94\tMin: 2.10\tMax: 13.10\n",
      "Episode 12\tTotal Average Score: 2.98\tMean: 9.76\tMin: 3.93\tMax: 20.60\n",
      "Episode 13\tTotal Average Score: 3.73\tMean: 13.49\tMin: 3.61\tMax: 27.04\n",
      "Episode 14\tTotal Average Score: 4.75\tMean: 19.08\tMin: 3.41\tMax: 26.92\n",
      "Episode 15\tTotal Average Score: 5.63\tMean: 18.77\tMin: 2.71\tMax: 29.06\n",
      "Episode 16\tTotal Average Score: 6.75\tMean: 24.80\tMin: 7.67\tMax: 36.73\n",
      "Episode 17\tTotal Average Score: 8.08\tMean: 30.58\tMin: 17.63\tMax: 36.82\n",
      "Episode 18\tTotal Average Score: 9.36\tMean: 32.48\tMin: 20.86\tMax: 36.28\n",
      "Episode 19\tTotal Average Score: 10.56\tMean: 33.23\tMin: 24.79\tMax: 37.07\n",
      "Episode 20\tTotal Average Score: 11.77\tMean: 35.96\tMin: 31.19\tMax: 39.22\n",
      "Episode 21\tTotal Average Score: 12.84\tMean: 35.45\tMin: 24.28\tMax: 39.62\n",
      "Episode 22\tTotal Average Score: 13.92\tMean: 37.62\tMin: 33.13\tMax: 39.51\n",
      "Episode 23\tTotal Average Score: 14.90\tMean: 37.49\tMin: 33.69\tMax: 39.48\n",
      "Episode 24\tTotal Average Score: 15.84\tMean: 38.29\tMin: 35.75\tMax: 39.66\n",
      "Episode 25\tTotal Average Score: 16.70\tMean: 38.18\tMin: 35.62\tMax: 39.64\n",
      "Episode 26\tTotal Average Score: 17.46\tMean: 37.27\tMin: 33.79\tMax: 39.48\n",
      "Episode 27\tTotal Average Score: 18.22\tMean: 38.79\tMin: 36.83\tMax: 39.63\n",
      "Episode 28\tTotal Average Score: 18.93\tMean: 38.65\tMin: 35.32\tMax: 39.64\n",
      "Episode 29\tTotal Average Score: 19.55\tMean: 37.71\tMin: 32.83\tMax: 39.22\n",
      "Episode 30\tTotal Average Score: 20.16\tMean: 38.29\tMin: 35.43\tMax: 39.64\n",
      "Episode 31\tTotal Average Score: 20.71\tMean: 37.91\tMin: 36.37\tMax: 39.34\n",
      "Episode 32\tTotal Average Score: 21.26\tMean: 38.74\tMin: 37.19\tMax: 39.57\n",
      "Episode 33\tTotal Average Score: 21.77\tMean: 38.55\tMin: 35.36\tMax: 39.67\n",
      "Episode 34\tTotal Average Score: 22.24\tMean: 38.44\tMin: 35.44\tMax: 39.64\n",
      "Episode 35\tTotal Average Score: 22.69\tMean: 38.56\tMin: 35.68\tMax: 39.52\n",
      "Episode 36\tTotal Average Score: 23.14\tMean: 39.11\tMin: 37.95\tMax: 39.62\n",
      "Episode 37\tTotal Average Score: 23.53\tMean: 38.06\tMin: 36.04\tMax: 39.51\n",
      "Episode 38\tTotal Average Score: 23.93\tMean: 38.93\tMin: 37.45\tMax: 39.56\n",
      "Episode 39\tTotal Average Score: 24.30\tMean: 38.95\tMin: 37.84\tMax: 39.62\n",
      "Episode 40\tTotal Average Score: 24.65\tMean: 38.43\tMin: 36.14\tMax: 39.51\n",
      "Episode 41\tTotal Average Score: 24.98\tMean: 38.69\tMin: 34.77\tMax: 39.41\n",
      "Episode 42\tTotal Average Score: 25.30\tMean: 38.56\tMin: 36.86\tMax: 39.65\n",
      "Episode 43\tTotal Average Score: 25.60\tMean: 38.86\tMin: 37.89\tMax: 39.62\n",
      "Episode 44\tTotal Average Score: 25.88\tMean: 37.81\tMin: 35.56\tMax: 38.93\n",
      "Episode 45\tTotal Average Score: 26.14\tMean: 38.20\tMin: 35.77\tMax: 39.32\n",
      "Episode 46\tTotal Average Score: 26.40\tMean: 38.18\tMin: 36.39\tMax: 39.23\n",
      "Episode 47\tTotal Average Score: 26.63\tMean: 37.46\tMin: 35.23\tMax: 39.35\n",
      "Episode 48\tTotal Average Score: 26.88\tMean: 38.73\tMin: 36.29\tMax: 39.60\n",
      "Episode 49\tTotal Average Score: 27.12\tMean: 38.74\tMin: 37.53\tMax: 39.52\n",
      "Episode 50\tTotal Average Score: 27.33\tMean: 38.07\tMin: 36.96\tMax: 39.16\n",
      "Episode 51\tTotal Average Score: 27.53\tMean: 37.94\tMin: 36.75\tMax: 39.01\n",
      "Episode 52\tTotal Average Score: 27.73\tMean: 38.08\tMin: 36.69\tMax: 39.32\n",
      "Episode 53\tTotal Average Score: 27.93\tMean: 38.50\tMin: 37.02\tMax: 39.47\n",
      "Episode 54\tTotal Average Score: 28.12\tMean: 38.49\tMin: 37.30\tMax: 39.22\n",
      "Episode 55\tTotal Average Score: 28.31\tMean: 38.59\tMin: 36.33\tMax: 39.51\n",
      "Episode 56\tTotal Average Score: 28.49\tMean: 38.39\tMin: 36.56\tMax: 39.49\n",
      "Episode 57\tTotal Average Score: 28.67\tMean: 38.86\tMin: 37.71\tMax: 39.60\n",
      "Episode 58\tTotal Average Score: 28.83\tMean: 38.08\tMin: 34.50\tMax: 39.36\n",
      "Episode 59\tTotal Average Score: 28.99\tMean: 38.60\tMin: 35.51\tMax: 39.60\n",
      "Episode 60\tTotal Average Score: 29.15\tMean: 38.77\tMin: 37.37\tMax: 39.50\n",
      "Episode 61\tTotal Average Score: 29.30\tMean: 38.58\tMin: 36.99\tMax: 39.55\n",
      "Episode 62\tTotal Average Score: 29.44\tMean: 38.20\tMin: 36.33\tMax: 39.54\n",
      "Episode 63\tTotal Average Score: 29.58\tMean: 38.53\tMin: 37.23\tMax: 39.27\n",
      "Episode 64\tTotal Average Score: 29.73\tMean: 39.10\tMin: 38.10\tMax: 39.54\n",
      "Episode 65\tTotal Average Score: 29.86\tMean: 38.55\tMin: 37.45\tMax: 39.58\n",
      "Episode 66\tTotal Average Score: 30.00\tMean: 39.21\tMin: 38.30\tMax: 39.67\n",
      "Episode 67\tTotal Average Score: 30.13\tMean: 38.39\tMin: 37.34\tMax: 39.60\n",
      "Episode 68\tTotal Average Score: 30.26\tMean: 39.22\tMin: 38.44\tMax: 39.64\n",
      "Episode 69\tTotal Average Score: 30.38\tMean: 38.79\tMin: 37.82\tMax: 39.60\n",
      "Episode 70\tTotal Average Score: 30.50\tMean: 38.78\tMin: 37.79\tMax: 39.63\n",
      "Episode 71\tTotal Average Score: 30.61\tMean: 38.27\tMin: 36.90\tMax: 39.00\n",
      "Episode 72\tTotal Average Score: 30.72\tMean: 39.07\tMin: 37.69\tMax: 39.60\n",
      "Episode 73\tTotal Average Score: 30.83\tMean: 38.36\tMin: 37.01\tMax: 39.33\n",
      "Episode 74\tTotal Average Score: 30.93\tMean: 38.24\tMin: 36.38\tMax: 39.48\n",
      "Episode 75\tTotal Average Score: 31.03\tMean: 38.77\tMin: 37.03\tMax: 39.61\n",
      "Episode 76\tTotal Average Score: 31.14\tMean: 39.22\tMin: 37.77\tMax: 39.58\n",
      "Episode 77\tTotal Average Score: 31.23\tMean: 38.52\tMin: 37.04\tMax: 39.32\n",
      "Episode 78\tTotal Average Score: 31.31\tMean: 37.91\tMin: 36.53\tMax: 39.08\n",
      "Episode 79\tTotal Average Score: 31.40\tMean: 37.93\tMin: 35.32\tMax: 39.54\n",
      "Episode 80\tTotal Average Score: 31.48\tMean: 38.07\tMin: 36.05\tMax: 39.40\n",
      "Episode 81\tTotal Average Score: 31.57\tMean: 38.75\tMin: 37.44\tMax: 39.60\n",
      "Episode 82\tTotal Average Score: 31.64\tMean: 37.45\tMin: 35.53\tMax: 39.08\n",
      "Episode 83\tTotal Average Score: 31.71\tMean: 37.99\tMin: 36.23\tMax: 39.49\n",
      "Episode 84\tTotal Average Score: 31.79\tMean: 37.96\tMin: 36.16\tMax: 39.37\n",
      "Episode 85\tTotal Average Score: 31.85\tMean: 37.44\tMin: 35.29\tMax: 38.87\n",
      "Episode 86\tTotal Average Score: 31.92\tMean: 38.02\tMin: 35.98\tMax: 39.39\n",
      "Episode 87\tTotal Average Score: 31.99\tMean: 37.75\tMin: 35.46\tMax: 39.01\n",
      "Episode 88\tTotal Average Score: 32.05\tMean: 36.80\tMin: 33.54\tMax: 39.47\n",
      "Episode 89\tTotal Average Score: 32.11\tMean: 37.55\tMin: 35.85\tMax: 38.85\n",
      "Episode 90\tTotal Average Score: 32.16\tMean: 37.38\tMin: 35.56\tMax: 38.71\n",
      "Episode 91\tTotal Average Score: 32.23\tMean: 38.42\tMin: 37.53\tMax: 39.07\n",
      "Episode 92\tTotal Average Score: 32.27\tMean: 36.11\tMin: 28.26\tMax: 39.09\n",
      "Episode 93\tTotal Average Score: 32.34\tMean: 38.88\tMin: 37.62\tMax: 39.56\n",
      "Episode 94\tTotal Average Score: 32.41\tMean: 38.33\tMin: 35.93\tMax: 39.44\n",
      "Episode 95\tTotal Average Score: 32.47\tMean: 38.13\tMin: 35.32\tMax: 39.64\n",
      "Episode 96\tTotal Average Score: 32.52\tMean: 37.60\tMin: 34.31\tMax: 39.07\n",
      "Episode 97\tTotal Average Score: 32.57\tMean: 37.02\tMin: 35.25\tMax: 38.80\n",
      "Episode 98\tTotal Average Score: 32.62\tMean: 37.76\tMin: 35.83\tMax: 39.41\n",
      "Episode 99\tTotal Average Score: 32.67\tMean: 38.17\tMin: 36.32\tMax: 39.44\n",
      "Episode 100\tTotal Average Score: 33.05\tMean: 38.39\tMin: 36.75\tMax: 39.67\n",
      "Episode 101\tTotal Average Score: 33.43\tMean: 38.24\tMin: 36.86\tMax: 39.37\n"
     ]
    }
   ],
   "source": [
    "scores = ddpg(1000, 1000)"
   ]
  },
  {
   "cell_type": "markdown",
   "metadata": {},
   "source": [
    "### 5. Persist agent weights (optional)\n",
    "\n",
    "Execute the following cell in order to persist weights. These weights can then be used to initialize the agent. Make sure you update `MODEL_NAME`."
   ]
  },
  {
   "cell_type": "code",
   "execution_count": null,
   "metadata": {},
   "outputs": [],
   "source": [
    "agent.save_state('MODEL_NAME')"
   ]
  },
  {
   "cell_type": "markdown",
   "metadata": {},
   "source": [
    "### 6. View performance of our agent"
   ]
  },
  {
   "cell_type": "code",
   "execution_count": 10,
   "metadata": {},
   "outputs": [
    {
     "data": {
      "image/png": "[encoded data removed]",
      "text/plain": [
       "<Figure size 432x288 with 1 Axes>"
      ]
     },
     "metadata": {
      "needs_background": "light"
     },
     "output_type": "display_data"
    }
   ],
   "source": [
    "import matplotlib.pyplot as plt\n",
    "%matplotlib inline\n",
    "\n",
    "fig = plt.figure()\n",
    "ax = fig.add_subplot(111)\n",
    "plt.plot(np.arange(1, len(scores)+1), scores)\n",
    "plt.ylabel('Score')\n",
    "plt.xlabel('Episode #')\n",
    "plt.show()"
   ]
  },
  {
   "cell_type": "markdown",
   "metadata": {},
   "source": [
    "### 7. Watch trained agent"
   ]
  },
  {
   "cell_type": "code",
   "execution_count": 13,
   "metadata": {},
   "outputs": [
    {
     "name": "stdout",
     "output_type": "stream",
     "text": [
      "Total score: 38.17299914676696\n"
     ]
    }
   ],
   "source": [
    "env_info = env.reset(train_mode=False)[brain_name]     # reset the environment    \n",
    "states = env_info.vector_observations                  # get the current state (for each agent)\n",
    "scores = np.zeros(num_agents)                          # initialize the score (for each agent)\n",
    "\n",
    "while True:\n",
    "    actions = agent.act(states)                        # select actions from loaded model agent\n",
    "    env_info = env.step(actions)[brain_name]           # send all actions to tne environment\n",
    "    next_states = env_info.vector_observations         # get next state (for each agent)\n",
    "    rewards = env_info.rewards                         # get reward (for each agent)\n",
    "    dones = env_info.local_done                        # see if episode finished\n",
    "    scores += env_info.rewards                         # update the score (for each agent)\n",
    "    states = next_states                               # roll over states to next time step\n",
    "    if np.any(dones):                                  # exit loop if episode finished\n",
    "        break\n",
    "print('Total score: {}'.format(np.mean(scores)))"
   ]
  },
  {
   "cell_type": "code",
   "execution_count": null,
   "metadata": {},
   "outputs": [],
   "source": [
    "env.close()"
   ]
  }
 ],
 "metadata": {
  "kernelspec": {
   "display_name": "drlnd",
   "language": "python",
   "name": "drlnd"
  },
  "language_info": {
   "codemirror_mode": {
    "name": "ipython",
    "version": 3
   },
   "file_extension": ".py",
   "mimetype": "text/x-python",
   "name": "python",
   "nbconvert_exporter": "python",
   "pygments_lexer": "ipython3",
   "version": "3.6.7"
  }
 },
 "nbformat": 4,
 "nbformat_minor": 2
}
